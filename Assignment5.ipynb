{
 "cells": [
  {
   "cell_type": "markdown",
   "id": "e0cc1d81-9aed-4d0b-9dba-57052f755941",
   "metadata": {},
   "source": [
    "## *Task1*\n"
   ]
  },
  {
   "cell_type": "code",
   "execution_count": 50,
   "id": "94307e59-21e0-4280-9bf5-2756eac7b36b",
   "metadata": {},
   "outputs": [
    {
     "name": "stdout",
     "output_type": "stream",
     "text": [
      "Customer DataFrame:\n",
      "   CustomerID  Age         City\n",
      "0           1   22     New York\n",
      "1           2   23  Los Angeles\n",
      "2           3   24      Chicago\n",
      "3           4   25      Houston\n",
      "4           5   26      Phoenix\n",
      "\n",
      "Sales DataFrame:\n",
      "   SaleID  CustomerID     Product  Amount\n",
      "0     101           1      Laptop     200\n",
      "1     102           2  Smartphone     500\n",
      "2     103           3      Tablet     800\n",
      "3     104           4  Headphones    1100\n",
      "4     105           5     Monitor    1400\n",
      "\n",
      "Customer DataFrame Shape: (100, 3)\n",
      "Sales DataFrame Shape: (400, 4)\n",
      "\n",
      "Missing values in Customer DataFrame:\n",
      "CustomerID    0\n",
      "Age           0\n",
      "City          0\n",
      "dtype: int64\n",
      "\n",
      "Missing values in Sales DataFrame:\n",
      "SaleID        0\n",
      "CustomerID    0\n",
      "Product       0\n",
      "Amount        0\n",
      "dtype: int64\n",
      "\n",
      "Cleaned Customer DataFrame:\n",
      "   CustomerID  Age         City\n",
      "0           1   22     New York\n",
      "1           2   23  Los Angeles\n",
      "2           3   24      Chicago\n",
      "3           4   25      Houston\n",
      "4           5   26      Phoenix\n",
      "\n",
      "Cleaned Sales DataFrame:\n",
      "   SaleID  CustomerID     Product  Amount\n",
      "0     101           1      Laptop     200\n",
      "1     102           2  Smartphone     500\n",
      "2     103           3      Tablet     800\n",
      "3     104           4  Headphones    1100\n",
      "4     105           5     Monitor    1400\n"
     ]
    }
   ],
   "source": [
    "\n",
    "import pandas as pd\n",
    "\n",
    "customer_df = pd.read_csv('E:/IDS/customers.csv')\n",
    "sales_df = pd.read_csv('E:/IDS/sales.csv')\n",
    "\n",
    "print(\"Customer DataFrame:\")\n",
    "print(customer_df.head())\n",
    "\n",
    "print(\"\\nSales DataFrame:\")\n",
    "print(sales_df.head())\n",
    "\n",
    "print(\"\\nCustomer DataFrame Shape:\", customer_df.shape)\n",
    "print(\"Sales DataFrame Shape:\", sales_df.shape)\n",
    "\n",
    "print(\"\\nMissing values in Customer DataFrame:\")\n",
    "print(customer_df.isnull().sum())\n",
    "\n",
    "print(\"\\nMissing values in Sales DataFrame:\")\n",
    "print(sales_df.isnull().sum())\n",
    "\n",
    "customer_df.fillna({'age': 0, 'city': 'Unknown'}, inplace=True)\n",
    "\n",
    "sales_df.fillna({'amount': 0}, inplace=True)\n",
    "\n",
    "print(\"\\nCleaned Customer DataFrame:\")\n",
    "print(customer_df.head())\n",
    "\n",
    "print(\"\\nCleaned Sales DataFrame:\")\n",
    "print(sales_df.head())"
   ]
  },
  {
   "cell_type": "markdown",
   "id": "751b581c-f8dd-4fb1-9c4b-cd18ee75d704",
   "metadata": {},
   "source": [
    "## *Task2*"
   ]
  },
  {
   "cell_type": "code",
   "execution_count": 46,
   "id": "e8cddf90-764e-4a20-9866-df1387ab99ec",
   "metadata": {},
   "outputs": [
    {
     "name": "stdout",
     "output_type": "stream",
     "text": [
      "\n",
      "Filtered customers using dictionary:\n",
      "[{'CustomerID': 1, 'Age': 22, 'City': 'New York'}, {'CustomerID': 6, 'Age': 27, 'City': 'New York'}, {'CustomerID': 11, 'Age': 32, 'City': 'New York'}, {'CustomerID': 16, 'Age': 37, 'City': 'New York'}, {'CustomerID': 21, 'Age': 42, 'City': 'New York'}, {'CustomerID': 26, 'Age': 47, 'City': 'New York'}, {'CustomerID': 31, 'Age': 22, 'City': 'New York'}, {'CustomerID': 36, 'Age': 27, 'City': 'New York'}, {'CustomerID': 41, 'Age': 32, 'City': 'New York'}, {'CustomerID': 46, 'Age': 37, 'City': 'New York'}, {'CustomerID': 51, 'Age': 42, 'City': 'New York'}, {'CustomerID': 56, 'Age': 47, 'City': 'New York'}, {'CustomerID': 61, 'Age': 22, 'City': 'New York'}, {'CustomerID': 66, 'Age': 27, 'City': 'New York'}, {'CustomerID': 71, 'Age': 32, 'City': 'New York'}, {'CustomerID': 76, 'Age': 37, 'City': 'New York'}, {'CustomerID': 81, 'Age': 42, 'City': 'New York'}, {'CustomerID': 86, 'Age': 47, 'City': 'New York'}, {'CustomerID': 91, 'Age': 22, 'City': 'New York'}, {'CustomerID': 96, 'Age': 27, 'City': 'New York'}]\n",
      "Time taken using dictionary: 0.000000 seconds\n",
      "\n",
      "Filtered customers using DataFrame:\n",
      "    CustomerID  Age      City\n",
      "0            1   22  New York\n",
      "5            6   27  New York\n",
      "10          11   32  New York\n",
      "15          16   37  New York\n",
      "20          21   42  New York\n",
      "25          26   47  New York\n",
      "30          31   22  New York\n",
      "35          36   27  New York\n",
      "40          41   32  New York\n",
      "45          46   37  New York\n",
      "50          51   42  New York\n",
      "55          56   47  New York\n",
      "60          61   22  New York\n",
      "65          66   27  New York\n",
      "70          71   32  New York\n",
      "75          76   37  New York\n",
      "80          81   42  New York\n",
      "85          86   47  New York\n",
      "90          91   22  New York\n",
      "95          96   27  New York\n",
      "Time taken using DataFrame: 0.000000 seconds\n",
      "\n",
      "Efficiency Comparison:\n",
      "Dictionary approach time: 0.000000 seconds\n",
      "DataFrame approach time: 0.000000 seconds\n",
      "DataFrame approach is faster.\n"
     ]
    }
   ],
   "source": [
    "import time\n",
    "\n",
    "customers_df = pd.read_csv('E:/IDS/customers.csv')\n",
    "city_to_filter = 'New York'\n",
    "\n",
    "customers_dict = customers_df.to_dict(orient='records')\n",
    "start_dict_time = time.time()\n",
    "filtered_customers_dict = [customer for customer in customers_dict if customer['City'] == city_to_filter]\n",
    "end_dict_time = time.time()\n",
    "\n",
    "print(\"\\nFiltered customers using dictionary:\")\n",
    "print(filtered_customers_dict)\n",
    "print(f\"Time taken using dictionary: {end_dict_time - start_dict_time:.6f} seconds\")\n",
    "\n",
    "start_df_time = time.time()\n",
    "filtered_customers_df = customers_df[customers_df['City'] == city_to_filter]\n",
    "end_df_time = time.time()\n",
    "\n",
    "print(\"\\nFiltered customers using DataFrame:\")\n",
    "print(filtered_customers_df)\n",
    "print(f\"Time taken using DataFrame: {end_df_time - start_df_time:.6f} seconds\")\n",
    "\n",
    "dict_time = end_dict_time - start_dict_time\n",
    "df_time = end_df_time - start_df_time\n",
    "\n",
    "print(\"\\nEfficiency Comparison:\")\n",
    "print(f\"Dictionary approach time: {dict_time:.6f} seconds\")\n",
    "print(f\"DataFrame approach time: {df_time:.6f} seconds\")\n",
    "\n",
    "if dict_time < df_time:\n",
    "    print(\"Dictionary approach is faster.\")\n",
    "else:\n",
    "    print(\"DataFrame approach is faster.\")\n"
   ]
  },
  {
   "cell_type": "markdown",
   "id": "eab07908-6c40-44f4-b1b0-6626364f19b0",
   "metadata": {},
   "source": [
    "## *Task3*"
   ]
  },
  {
   "cell_type": "code",
   "execution_count": 17,
   "id": "26d3f006-1f2e-46eb-b9f7-f8ec538672f4",
   "metadata": {},
   "outputs": [
    {
     "name": "stdout",
     "output_type": "stream",
     "text": [
      "\n",
      "--- Customers Dataset ---\n",
      "Number of duplicate rows in Customers dataset: 0\n",
      "Number of duplicate rows after cleaning: 0\n",
      "\n",
      "--- Sales Dataset ---\n",
      "Number of duplicate rows in Sales dataset: 0\n",
      "Number of duplicate rows after cleaning: 0\n"
     ]
    }
   ],
   "source": [
    "customers_df = pd.read_csv('E:/IDS/customers.csv')\n",
    "sales_df = pd.read_csv('E:/IDS/sales.csv')\n",
    "\n",
    "print(\"\\n--- Customers Dataset ---\")\n",
    "print(\"Number of duplicate rows in Customers dataset:\", customers_df.duplicated().sum())\n",
    "\n",
    "customers_df_cleaned = customers_df.drop_duplicates()\n",
    "\n",
    "print(\"Number of duplicate rows after cleaning:\", customers_df_cleaned.duplicated().sum())\n",
    "\n",
    "print(\"\\n--- Sales Dataset ---\")\n",
    "print(\"Number of duplicate rows in Sales dataset:\", sales_df.duplicated().sum())\n",
    "\n",
    "sales_df_cleaned = sales_df.drop_duplicates()\n",
    "print(\"Number of duplicate rows after cleaning:\", sales_df_cleaned.duplicated().sum())"
   ]
  },
  {
   "cell_type": "markdown",
   "id": "9a244980-3fae-4794-ad05-19f4defbf998",
   "metadata": {},
   "source": [
    "## *Task4*"
   ]
  },
  {
   "cell_type": "code",
   "execution_count": 19,
   "id": "18ab61d8-af22-4a31-b9b2-d2068bda454f",
   "metadata": {},
   "outputs": [
    {
     "name": "stdout",
     "output_type": "stream",
     "text": [
      "\n",
      "Total sales after applying 10% discount, grouped by Product:\n",
      "      Product  DiscountedAmount\n",
      "0  Headphones           79200.0\n",
      "1      Laptop           14400.0\n",
      "2     Monitor          100800.0\n",
      "3  Smartphone           36000.0\n",
      "4      Tablet           57600.0\n"
     ]
    }
   ],
   "source": [
    "sales_df = pd.read_csv('E:/IDS/sales.csv')\n",
    "\n",
    "sales_df['DiscountedAmount'] = sales_df['Amount'] * 0.90 \n",
    "\n",
    "total_sales_by_product = sales_df.groupby('Product')['DiscountedAmount'].sum().reset_index()\n",
    "\n",
    "print(\"\\nTotal sales after applying 10% discount, grouped by Product:\")\n",
    "print(total_sales_by_product)\n"
   ]
  },
  {
   "cell_type": "markdown",
   "id": "4f83b0b6-3bc8-4238-a029-5dcbc4bdbf17",
   "metadata": {},
   "source": [
    "## *Task5*"
   ]
  },
  {
   "cell_type": "code",
   "execution_count": null,
   "id": "dccac1c9-ebcb-4035-a3d8-d90e46a31905",
   "metadata": {},
   "outputs": [],
   "source": [
    "customers_df = pd.read_csv('E:/IDS/customers.csv')\n",
    "\n",
    "filtered_customers_df = customers_df[(customers_df['Age'] >= 25) & (customers_df['Age'] <= 35)]\n",
    "\n",
    "city_counts = filtered_customers_df['City'].value_counts().reset_index()\n",
    "city_counts.columns = ['City', 'CustomerCount']\n",
    "\n",
    "print(\"\\nNumber of customers by city within the age range 25 to 35:\")\n",
    "print(city_counts)\n"
   ]
  },
  {
   "cell_type": "markdown",
   "id": "cf52493b-a8c5-432e-bd81-145325f53c7a",
   "metadata": {},
   "source": [
    "## *Task6*"
   ]
  },
  {
   "cell_type": "code",
   "execution_count": 23,
   "id": "6c6e9cba-2d63-4f54-a14b-14611d6fc33e",
   "metadata": {},
   "outputs": [
    {
     "name": "stdout",
     "output_type": "stream",
     "text": [
      "\n",
      "City with the highest total sales:\n",
      "City          Phoenix\n",
      "TotalSales     112000\n",
      "Name: 4, dtype: object\n",
      "\n",
      "Product with the most units sold:\n",
      "Product    Headphones\n",
      "SaleID             80\n",
      "Name: 0, dtype: object\n"
     ]
    }
   ],
   "source": [
    "customers_df = pd.read_csv('E:/IDS/customers.csv')\n",
    "sales_df = pd.read_csv('E:/IDS/sales.csv')\n",
    "\n",
    "merged_df = pd.merge(sales_df, customers_df, on='CustomerID', how='inner')\n",
    "\n",
    "merged_df['TotalSales'] = merged_df['Amount']\n",
    "\n",
    "city_sales = merged_df.groupby('City')['TotalSales'].sum().reset_index()\n",
    "\n",
    "top_city = city_sales.loc[city_sales['TotalSales'].idxmax()]\n",
    "\n",
    "print(\"\\nCity with the highest total sales:\")\n",
    "print(top_city)\n",
    "\n",
    "product_sales = merged_df.groupby('Product')['SaleID'].count().reset_index()\n",
    "\n",
    "top_product = product_sales.loc[product_sales['SaleID'].idxmax()]\n",
    "\n",
    "print(\"\\nProduct with the most units sold:\")\n",
    "print(top_product)"
   ]
  },
  {
   "cell_type": "markdown",
   "id": "7c70390e-7e3c-4466-bf09-030b80fb96e2",
   "metadata": {},
   "source": [
    "## *Task7*"
   ]
  },
  {
   "cell_type": "code",
   "execution_count": 25,
   "id": "8ec64f98-85c1-4570-8270-42bb72c50e21",
   "metadata": {},
   "outputs": [
    {
     "name": "stdout",
     "output_type": "stream",
     "text": [
      "\n",
      "Unique values in 'City' column:\n",
      "['New York' 'Los Angeles' 'Chicago' 'Houston' 'Phoenix']\n",
      "\n",
      "Unique values in 'Product' column:\n",
      "['Laptop' 'Smartphone' 'Tablet' 'Headphones' 'Monitor']\n",
      "\n",
      "Mean of the Amount column: 800.0\n",
      "Median of the Amount column: 800.0\n"
     ]
    }
   ],
   "source": [
    "customers_df = pd.read_csv('E:/IDS/customers.csv')\n",
    "sales_df = pd.read_csv('E:/IDS/sales.csv')\n",
    "\n",
    "merged_df = pd.merge(sales_df, customers_df, on='CustomerID', how='inner')\n",
    "\n",
    "print(\"\\nUnique values in 'City' column:\")\n",
    "print(merged_df['City'].unique())\n",
    "\n",
    "print(\"\\nUnique values in 'Product' column:\")\n",
    "print(merged_df['Product'].unique())\n",
    "\n",
    "mean_amount = merged_df['Amount'].mean()\n",
    "median_amount = merged_df['Amount'].median()\n",
    "\n",
    "print(\"\\nMean of the Amount column:\", mean_amount)\n",
    "print(\"Median of the Amount column:\", median_amount)"
   ]
  },
  {
   "cell_type": "code",
   "execution_count": null,
   "id": "5792e4bd-50c5-4815-b71b-5ad5cbe6949e",
   "metadata": {},
   "outputs": [],
   "source": []
  }
 ],
 "metadata": {
  "kernelspec": {
   "display_name": "Python 3 (ipykernel)",
   "language": "python",
   "name": "python3"
  },
  "language_info": {
   "codemirror_mode": {
    "name": "ipython",
    "version": 3
   },
   "file_extension": ".py",
   "mimetype": "text/x-python",
   "name": "python",
   "nbconvert_exporter": "python",
   "pygments_lexer": "ipython3",
   "version": "3.12.4"
  }
 },
 "nbformat": 4,
 "nbformat_minor": 5
}
